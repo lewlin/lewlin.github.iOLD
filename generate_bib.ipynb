{
 "cells": [
  {
   "cell_type": "code",
   "execution_count": 1,
   "metadata": {},
   "outputs": [],
   "source": [
    "import scholarly"
   ]
  },
  {
   "cell_type": "code",
   "execution_count": 4,
   "metadata": {},
   "outputs": [],
   "source": [
    "# Retrieve the author's data, fill-in, and print\n",
    "search_query = scholarly.search_author('Tommaso Biancalani')\n",
    "author = next(search_query).fill()\n",
    "# print(author)"
   ]
  },
  {
   "cell_type": "code",
   "execution_count": 15,
   "metadata": {},
   "outputs": [],
   "source": [
    "pubs = author.publications\n",
    "pubs = [pub.fill() for pub in pubs]"
   ]
  },
  {
   "cell_type": "code",
   "execution_count": 24,
   "metadata": {},
   "outputs": [
    {
     "name": "stdout",
     "output_type": "stream",
     "text": [
      "{'_filled': True,\n",
      " 'bib': {'abstract': <div class=\"gsc_vcd_value\" id=\"gsc_vcd_descr\"><div class=\"gsh_small\"><div class=\"gsh_csp\">A stochastic version of the Brusselator model is proposed and studied via the system size expansion. The mean-field equations are derived and shown to yield to organized Turing patterns within a specific parameters region. When determining the Turing condition for instability, we pay particular attention to the role of cross-diffusive terms, often neglected in the heuristic derivation of reaction-diffusion schemes. Stochastic fluctuations are shown to give rise to spatially ordered solutions, sharing the same quantitative characteristic of the mean-field based Turing scenario, in term of excited wavelengths. Interestingly, the region of parameter yielding to the stochastic self-organization is wider than that determined via the conventional Turing approach, suggesting that the condition for spatial order to appear can be less stringent than customarily believed.</div></div></div>,\n",
      "         'author': 'Tommaso Biancalani and Duccio Fanelli and Francesca Di '\n",
      "                   'Patti',\n",
      "         'eprint': 'https://scholar.google.comhttps://arxiv.org/pdf/0910.4984',\n",
      "         'journal': 'Physical Review E',\n",
      "         'number': '4',\n",
      "         'pages': '046215',\n",
      "         'publisher': 'American Physical Society',\n",
      "         'title': 'Stochastic Turing patterns in the Brusselator model',\n",
      "         'url': 'https://journals.aps.org/pre/abstract/10.1103/PhysRevE.81.046215',\n",
      "         'volume': '81',\n",
      "         'year': 2010},\n",
      " 'citedby': 102,\n",
      " 'id_citations': 's_qd9x0AAAAJ:u5HHmVD_uO8C',\n",
      " 'id_scholarcitedby': '10917099142109284376',\n",
      " 'source': 'citations'}\n"
     ]
    }
   ],
   "source": [
    "pub = pubs[0]\n",
    "print_out = print(pub)"
   ]
  },
  {
   "cell_type": "code",
   "execution_count": 32,
   "metadata": {},
   "outputs": [],
   "source": [
    "'title: ' + pub.bib['title'] + '\\n'"
   ]
  },
  {
   "cell_type": "code",
   "execution_count": 38,
   "metadata": {},
   "outputs": [
    {
     "data": {
      "text/plain": [
       "'authors: Tommaso Biancalani, Duccio Fanelli, Francesca Di Patti'"
      ]
     },
     "execution_count": 38,
     "metadata": {},
     "output_type": "execute_result"
    }
   ],
   "source": [
    "auth_list = ','.join(pub.bib['author'].split(' and'))\n",
    "'authors: ' + auth_list"
   ]
  },
  {
   "cell_type": "code",
   "execution_count": 40,
   "metadata": {},
   "outputs": [
    {
     "data": {
      "text/plain": [
       "'journal: Physical Review E'"
      ]
     },
     "execution_count": 40,
     "metadata": {},
     "output_type": "execute_result"
    }
   ],
   "source": [
    "'journal: ' + pub.bib['journal']"
   ]
  },
  {
   "cell_type": "code",
   "execution_count": 43,
   "metadata": {},
   "outputs": [
    {
     "data": {
      "text/plain": [
       "'year: 2010'"
      ]
     },
     "execution_count": 43,
     "metadata": {},
     "output_type": "execute_result"
    }
   ],
   "source": [
    "'year: ' + str(pub.bib['year'])"
   ]
  },
  {
   "cell_type": "code",
   "execution_count": 14,
   "metadata": {},
   "outputs": [
    {
     "name": "stdout",
     "output_type": "stream",
     "text": [
      "{'_filled': True,\n",
      " 'bib': {'abstract': <div class=\"gsc_vcd_value\" id=\"gsc_vcd_descr\"><div class=\"gsh_small\"><div class=\"gsh_csp\">A stochastic version of the Brusselator model is proposed and studied via the system size expansion. The mean-field equations are derived and shown to yield to organized Turing patterns within a specific parameters region. When determining the Turing condition for instability, we pay particular attention to the role of cross-diffusive terms, often neglected in the heuristic derivation of reaction-diffusion schemes. Stochastic fluctuations are shown to give rise to spatially ordered solutions, sharing the same quantitative characteristic of the mean-field based Turing scenario, in term of excited wavelengths. Interestingly, the region of parameter yielding to the stochastic self-organization is wider than that determined via the conventional Turing approach, suggesting that the condition for spatial order to appear can be less stringent than customarily believed.</div></div></div>,\n",
      "         'author': 'Tommaso Biancalani and Duccio Fanelli and Francesca Di '\n",
      "                   'Patti',\n",
      "         'eprint': 'https://scholar.google.comhttps://arxiv.org/pdf/0910.4984',\n",
      "         'journal': 'Physical Review E',\n",
      "         'number': '4',\n",
      "         'pages': '046215',\n",
      "         'publisher': 'American Physical Society',\n",
      "         'title': 'Stochastic Turing patterns in the Brusselator model',\n",
      "         'url': 'https://journals.aps.org/pre/abstract/10.1103/PhysRevE.81.046215',\n",
      "         'volume': '81',\n",
      "         'year': 2010},\n",
      " 'citedby': 102,\n",
      " 'id_citations': 's_qd9x0AAAAJ:u5HHmVD_uO8C',\n",
      " 'id_scholarcitedby': '10917099142109284376',\n",
      " 'source': 'citations'}\n"
     ]
    }
   ],
   "source": [
    "print(pub)"
   ]
  },
  {
   "cell_type": "code",
   "execution_count": 5,
   "metadata": {},
   "outputs": [
    {
     "name": "stdout",
     "output_type": "stream",
     "text": [
      "['Stochastic Turing patterns in the Brusselator model', 'Noise-induced bistable states and their mean switching time in foraging colonies', 'Stochastic pattern formation and spontaneous polarisation: the linear noise approximation and beyond', 'Resource availability modulates the cooperative and competitive nature of a microbial cross-feeding mutualism', 'Noise-induced mechanism for biological homochirality of early life self-replicators', 'Stochastic waves in a Brusselator model with nonlocal interaction', 'The linear noise approximation for reaction-diffusion systems on networks', 'Noise-induced metastability in biochemical networks', 'Genetic toggle switch in the absence of cooperative binding: exact results', 'Escapement mechanisms and the conversion of disequilibria; the engines of creation', 'Giant amplification of noise in fluctuation-induced pattern formation', 'Diffusion of two molecular species in a crowded environment: theory and experiments', 'Universal biology and the statistical mechanics of early life', 'Noise-induced symmetry breaking far from equilibrium and the emergence of biological homochirality', 'Framework for analyzing ecological trait-based models in multidimensional niche spaces', 'The statistics of fixation times for systems with recruitment', 'Diffusion approximation of the stochastic Wilson–Cowan model', 'Fluctuating hydrodynamics approximation of the stochastic Cowan-Wilson model', 'Disentangling bacterial invasiveness from lethality in an experimental host-pathogen system', 'Correction: Resource Availability Modulates the Cooperative and Competitive Nature of a Microbial Cross-Feeding Mutualism', 'Erratum: Framework for analyzing ecological trait-based models in multidimensional niche spaces [Phys. Rev. E 91, 052107 (2015)]', 'Noise-Induced Homochirality in Spatially Extended Chemical and Biological Systems', 'The Influence of Demographic Stochasticity on Population Dynamics: A Mathematical Study of Noise-Induced Bistable States and Stochastic Patterns', 'Stochastic recruitment leads to symmetry breaking in foraging populations', 'Stochastic Waves on Regular Lattices', 'Noise-Induced Bistability', 'Stochastic Waves on Complex Network', 'Noise-induced bistability and stochastic patterns', 'Quasi-waves in a Brusselator model with nonlocal interaction', 'The Emergence of Bistability and the Foraging of Ants', 'APS Members', 'APS Members', 'APS Members', 'Two drops in the race.']\n"
     ]
    }
   ],
   "source": [
    "# Print the titles of the author's publications\n",
    "print([pub.bib['title'] for pub in author.publications])"
   ]
  },
  {
   "cell_type": "code",
   "execution_count": null,
   "metadata": {},
   "outputs": [],
   "source": [
    "# Take a closer look at the first publication\n",
    "pub = author.publications[0].fill()\n",
    "print(pub)\n",
    "\n",
    "# Which papers cited that publication?"
   ]
  },
  {
   "cell_type": "code",
   "execution_count": null,
   "metadata": {},
   "outputs": [],
   "source": [
    "print([citation.bib['title'] for citation in pub.get_citedby()])"
   ]
  }
 ],
 "metadata": {
  "kernelspec": {
   "display_name": "Python 3",
   "language": "python",
   "name": "python3"
  },
  "language_info": {
   "codemirror_mode": {
    "name": "ipython",
    "version": 3
   },
   "file_extension": ".py",
   "mimetype": "text/x-python",
   "name": "python",
   "nbconvert_exporter": "python",
   "pygments_lexer": "ipython3",
   "version": "3.6.7"
  }
 },
 "nbformat": 4,
 "nbformat_minor": 2
}
